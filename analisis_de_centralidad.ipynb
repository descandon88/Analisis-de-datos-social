{
  "nbformat": 4,
  "nbformat_minor": 0,
  "metadata": {
    "colab": {
      "name": "analisis_de_centralidad.ipynb",
      "provenance": [],
      "authorship_tag": "ABX9TyOHdyanzjyTo1uux0HD82V8",
      "include_colab_link": true
    },
    "kernelspec": {
      "name": "python3",
      "display_name": "Python 3"
    },
    "language_info": {
      "name": "python"
    }
  },
  "cells": [
    {
      "cell_type": "markdown",
      "metadata": {
        "id": "view-in-github",
        "colab_type": "text"
      },
      "source": [
        "<a href=\"https://colab.research.google.com/github/descandon88/Analisis-de-datos-social/blob/main/analisis_de_centralidad.ipynb\" target=\"_parent\"><img src=\"https://colab.research.google.com/assets/colab-badge.svg\" alt=\"Open In Colab\"/></a>"
      ]
    },
    {
      "cell_type": "code",
      "metadata": {
        "id": "n1vNmecfVgkg"
      },
      "source": [
        "import matplotlib.pyplot as plt\n",
        "import matplotlib.animation as animation\n",
        "import time\n",
        "import numpy as np\n",
        "import pandas as pd"
      ],
      "execution_count": 2,
      "outputs": []
    },
    {
      "cell_type": "code",
      "metadata": {
        "colab": {
          "base_uri": "https://localhost:8080/"
        },
        "id": "JoAvzN6-Vj8M",
        "outputId": "96fd1db3-2e73-4d5a-ebdd-0d07c909138c"
      },
      "source": [
        "from google.colab import drive\n",
        "# Permiso para acceder a drive desde colab\n",
        "drive.mount(\"/content/drive\")"
      ],
      "execution_count": 3,
      "outputs": [
        {
          "output_type": "stream",
          "text": [
            "Mounted at /content/drive\n"
          ],
          "name": "stdout"
        }
      ]
    },
    {
      "cell_type": "code",
      "metadata": {
        "colab": {
          "base_uri": "https://localhost:8080/",
          "height": 189
        },
        "id": "tFNmyg4BVxUi",
        "outputId": "c64addfd-0b1c-4d96-8049-a5a401a0fa88"
      },
      "source": [
        "df_tweets=pd.read_csv('/content/drive/My Drive/ADS/tweets.csv')\n",
        "df_tweets.head()"
      ],
      "execution_count": 4,
      "outputs": [
        {
          "output_type": "execute_result",
          "data": {
            "text/html": [
              "<div>\n",
              "<style scoped>\n",
              "    .dataframe tbody tr th:only-of-type {\n",
              "        vertical-align: middle;\n",
              "    }\n",
              "\n",
              "    .dataframe tbody tr th {\n",
              "        vertical-align: top;\n",
              "    }\n",
              "\n",
              "    .dataframe thead th {\n",
              "        text-align: right;\n",
              "    }\n",
              "</style>\n",
              "<table border=\"1\" class=\"dataframe\">\n",
              "  <thead>\n",
              "    <tr style=\"text-align: right;\">\n",
              "      <th></th>\n",
              "      <th>user_id_tw</th>\n",
              "      <th>user_id</th>\n",
              "      <th>tweet_id</th>\n",
              "      <th>text</th>\n",
              "      <th>date</th>\n",
              "      <th>likes</th>\n",
              "      <th>rts</th>\n",
              "      <th>respuesta_a_tweet_id</th>\n",
              "      <th>respuesta_a_user_id</th>\n",
              "      <th>respuesta_a_user_screen_name</th>\n",
              "    </tr>\n",
              "  </thead>\n",
              "  <tbody>\n",
              "    <tr>\n",
              "      <th>0</th>\n",
              "      <td>69139927</td>\n",
              "      <td>AldoLema_uy</td>\n",
              "      <td>1387747570508877825</td>\n",
              "      <td>Durante el primer trimestre se mantuvo el dina...</td>\n",
              "      <td>2021-04-29 12:36:18</td>\n",
              "      <td>9</td>\n",
              "      <td>2</td>\n",
              "      <td>NaN</td>\n",
              "      <td>NaN</td>\n",
              "      <td>NaN</td>\n",
              "    </tr>\n",
              "    <tr>\n",
              "      <th>1</th>\n",
              "      <td>69139927</td>\n",
              "      <td>AldoLema_uy</td>\n",
              "      <td>1387722124454891525</td>\n",
              "      <td>Respecto a la relación de Biden y los demócrat...</td>\n",
              "      <td>2021-04-29 10:55:11</td>\n",
              "      <td>2</td>\n",
              "      <td>0</td>\n",
              "      <td>NaN</td>\n",
              "      <td>NaN</td>\n",
              "      <td>NaN</td>\n",
              "    </tr>\n",
              "    <tr>\n",
              "      <th>2</th>\n",
              "      <td>69139927</td>\n",
              "      <td>AldoLema_uy</td>\n",
              "      <td>1387717584854921222</td>\n",
              "      <td>A 100 días de haber asumido y tras su discurso...</td>\n",
              "      <td>2021-04-29 10:37:09</td>\n",
              "      <td>3</td>\n",
              "      <td>0</td>\n",
              "      <td>NaN</td>\n",
              "      <td>NaN</td>\n",
              "      <td>NaN</td>\n",
              "    </tr>\n",
              "    <tr>\n",
              "      <th>3</th>\n",
              "      <td>69139927</td>\n",
              "      <td>AldoLema_uy</td>\n",
              "      <td>1387702441420935171</td>\n",
              "      <td>La empresa uruguaya de pagos @dLocalPayments s...</td>\n",
              "      <td>2021-04-29 09:36:58</td>\n",
              "      <td>4</td>\n",
              "      <td>0</td>\n",
              "      <td>NaN</td>\n",
              "      <td>NaN</td>\n",
              "      <td>NaN</td>\n",
              "    </tr>\n",
              "    <tr>\n",
              "      <th>4</th>\n",
              "      <td>69139927</td>\n",
              "      <td>AldoLema_uy</td>\n",
              "      <td>1387687245008752645</td>\n",
              "      <td>La cadena cárnica uruguaya pagó US$ 198 millon...</td>\n",
              "      <td>2021-04-29 08:36:35</td>\n",
              "      <td>24</td>\n",
              "      <td>10</td>\n",
              "      <td>NaN</td>\n",
              "      <td>NaN</td>\n",
              "      <td>NaN</td>\n",
              "    </tr>\n",
              "  </tbody>\n",
              "</table>\n",
              "</div>"
            ],
            "text/plain": [
              "   user_id_tw      user_id  ...  respuesta_a_user_id respuesta_a_user_screen_name\n",
              "0    69139927  AldoLema_uy  ...                  NaN                          NaN\n",
              "1    69139927  AldoLema_uy  ...                  NaN                          NaN\n",
              "2    69139927  AldoLema_uy  ...                  NaN                          NaN\n",
              "3    69139927  AldoLema_uy  ...                  NaN                          NaN\n",
              "4    69139927  AldoLema_uy  ...                  NaN                          NaN\n",
              "\n",
              "[5 rows x 10 columns]"
            ]
          },
          "metadata": {
            "tags": []
          },
          "execution_count": 4
        }
      ]
    },
    {
      "cell_type": "code",
      "metadata": {
        "colab": {
          "base_uri": "https://localhost:8080/"
        },
        "id": "Aq1qWne_VzGw",
        "outputId": "f66cba8e-51b2-48b4-bb4c-4b470cebe978"
      },
      "source": [
        "!pip install networkx\n"
      ],
      "execution_count": 5,
      "outputs": [
        {
          "output_type": "stream",
          "text": [
            "Requirement already satisfied: networkx in /usr/local/lib/python3.7/dist-packages (2.5.1)\n",
            "Requirement already satisfied: decorator<5,>=4.3 in /usr/local/lib/python3.7/dist-packages (from networkx) (4.4.2)\n"
          ],
          "name": "stdout"
        }
      ]
    },
    {
      "cell_type": "code",
      "metadata": {
        "id": "5du-5x-gVzOv"
      },
      "source": [
        "import networkx as nx\n"
      ],
      "execution_count": 6,
      "outputs": []
    },
    {
      "cell_type": "code",
      "metadata": {
        "colab": {
          "base_uri": "https://localhost:8080/",
          "height": 189
        },
        "id": "kSADLAFoVzVt",
        "outputId": "cc8e06d0-fcfc-4eab-99ad-0b850ed4dec8"
      },
      "source": [
        "## Elimino las celdas vacías y lo agrego a un dataframe nuevo df1\n",
        "df1 = df_tweets\n",
        "df1 = df1.dropna()\n",
        "df1.head()"
      ],
      "execution_count": 7,
      "outputs": [
        {
          "output_type": "execute_result",
          "data": {
            "text/html": [
              "<div>\n",
              "<style scoped>\n",
              "    .dataframe tbody tr th:only-of-type {\n",
              "        vertical-align: middle;\n",
              "    }\n",
              "\n",
              "    .dataframe tbody tr th {\n",
              "        vertical-align: top;\n",
              "    }\n",
              "\n",
              "    .dataframe thead th {\n",
              "        text-align: right;\n",
              "    }\n",
              "</style>\n",
              "<table border=\"1\" class=\"dataframe\">\n",
              "  <thead>\n",
              "    <tr style=\"text-align: right;\">\n",
              "      <th></th>\n",
              "      <th>user_id_tw</th>\n",
              "      <th>user_id</th>\n",
              "      <th>tweet_id</th>\n",
              "      <th>text</th>\n",
              "      <th>date</th>\n",
              "      <th>likes</th>\n",
              "      <th>rts</th>\n",
              "      <th>respuesta_a_tweet_id</th>\n",
              "      <th>respuesta_a_user_id</th>\n",
              "      <th>respuesta_a_user_screen_name</th>\n",
              "    </tr>\n",
              "  </thead>\n",
              "  <tbody>\n",
              "    <tr>\n",
              "      <th>13</th>\n",
              "      <td>69139927</td>\n",
              "      <td>AldoLema_uy</td>\n",
              "      <td>1387536693343965190</td>\n",
              "      <td>Con 2.497 fallecidos totales, 2.939 casos hoy,...</td>\n",
              "      <td>2021-04-28 22:38:21</td>\n",
              "      <td>8</td>\n",
              "      <td>6</td>\n",
              "      <td>1.387535e+18</td>\n",
              "      <td>69139927.0</td>\n",
              "      <td>AldoLema_uy</td>\n",
              "    </tr>\n",
              "    <tr>\n",
              "      <th>27</th>\n",
              "      <td>69139927</td>\n",
              "      <td>AldoLema_uy</td>\n",
              "      <td>1387176212674535432</td>\n",
              "      <td>Con 2.452 fallecidos totales, 2.769 casos hoy,...</td>\n",
              "      <td>2021-04-27 22:45:56</td>\n",
              "      <td>2</td>\n",
              "      <td>1</td>\n",
              "      <td>1.387173e+18</td>\n",
              "      <td>69139927.0</td>\n",
              "      <td>AldoLema_uy</td>\n",
              "    </tr>\n",
              "    <tr>\n",
              "      <th>36</th>\n",
              "      <td>69139927</td>\n",
              "      <td>AldoLema_uy</td>\n",
              "      <td>1387040282999283718</td>\n",
              "      <td>@mrodrigfeed Me imaginaba que era 1986: U2 en ...</td>\n",
              "      <td>2021-04-27 13:45:48</td>\n",
              "      <td>3</td>\n",
              "      <td>0</td>\n",
              "      <td>1.387040e+18</td>\n",
              "      <td>568490386.0</td>\n",
              "      <td>mrodrigfeed</td>\n",
              "    </tr>\n",
              "    <tr>\n",
              "      <th>37</th>\n",
              "      <td>69139927</td>\n",
              "      <td>AldoLema_uy</td>\n",
              "      <td>1387038518992457736</td>\n",
              "      <td>@mrodrigfeed 20 de setiembre de 198_?</td>\n",
              "      <td>2021-04-27 13:38:47</td>\n",
              "      <td>3</td>\n",
              "      <td>0</td>\n",
              "      <td>1.387037e+18</td>\n",
              "      <td>568490386.0</td>\n",
              "      <td>mrodrigfeed</td>\n",
              "    </tr>\n",
              "    <tr>\n",
              "      <th>39</th>\n",
              "      <td>69139927</td>\n",
              "      <td>AldoLema_uy</td>\n",
              "      <td>1386993433575821313</td>\n",
              "      <td>@JavierdeHaedo De acuerdo que no era serio. Pe...</td>\n",
              "      <td>2021-04-27 10:39:38</td>\n",
              "      <td>11</td>\n",
              "      <td>1</td>\n",
              "      <td>1.386990e+18</td>\n",
              "      <td>356460604.0</td>\n",
              "      <td>JavierdeHaedo</td>\n",
              "    </tr>\n",
              "  </tbody>\n",
              "</table>\n",
              "</div>"
            ],
            "text/plain": [
              "    user_id_tw      user_id  ...  respuesta_a_user_id respuesta_a_user_screen_name\n",
              "13    69139927  AldoLema_uy  ...           69139927.0                  AldoLema_uy\n",
              "27    69139927  AldoLema_uy  ...           69139927.0                  AldoLema_uy\n",
              "36    69139927  AldoLema_uy  ...          568490386.0                  mrodrigfeed\n",
              "37    69139927  AldoLema_uy  ...          568490386.0                  mrodrigfeed\n",
              "39    69139927  AldoLema_uy  ...          356460604.0                JavierdeHaedo\n",
              "\n",
              "[5 rows x 10 columns]"
            ]
          },
          "metadata": {
            "tags": []
          },
          "execution_count": 7
        }
      ]
    },
    {
      "cell_type": "code",
      "metadata": {
        "id": "IOTtb_irV7UC"
      },
      "source": [
        "G = nx.from_pandas_edgelist(df1, source='user_id', target='respuesta_a_user_screen_name', edge_attr=True,)\n"
      ],
      "execution_count": 8,
      "outputs": []
    },
    {
      "cell_type": "code",
      "metadata": {
        "colab": {
          "base_uri": "https://localhost:8080/"
        },
        "id": "MBIsguotV74V",
        "outputId": "1d5c30b3-4722-4638-d1fb-0661eddf3bf4"
      },
      "source": [
        "nx.algorithms.degree_centrality(G)"
      ],
      "execution_count": 9,
      "outputs": [
        {
          "output_type": "execute_result",
          "data": {
            "text/plain": [
              "{'2010MisterChip': 0.004807692307692308,\n",
              " 'ALepinteur': 0.004807692307692308,\n",
              " 'AchardJorge': 0.004807692307692308,\n",
              " 'AgustinFabres': 0.004807692307692308,\n",
              " 'AldoLema_uy': 0.04807692307692308,\n",
              " 'AlejandroCid_uy': 0.004807692307692308,\n",
              " 'AlfonsoCapurro': 0.019230769230769232,\n",
              " 'Alvaro68041021': 0.004807692307692308,\n",
              " 'AnaLiaPineyrua': 0.004807692307692308,\n",
              " 'AndresDeanC': 0.004807692307692308,\n",
              " 'AndrewG_PhD': 0.004807692307692308,\n",
              " 'Bengoa_Marta': 0.004807692307692308,\n",
              " 'Boqui11': 0.004807692307692308,\n",
              " 'BreyBjorn': 0.004807692307692308,\n",
              " 'BrunoGili1': 0.009615384615384616,\n",
              " 'BuroneSanti': 0.004807692307692308,\n",
              " 'CSociales_UCU': 0.004807692307692308,\n",
              " 'CarlosDCarvallo': 0.004807692307692308,\n",
              " 'CasandraOrejana': 0.004807692307692308,\n",
              " 'Chasquetti': 0.009615384615384616,\n",
              " 'DanielFerres4': 0.004807692307692308,\n",
              " 'DipRodrigoGoni': 0.004807692307692308,\n",
              " 'ElcronistaUy': 0.004807692307692308,\n",
              " 'Elvietnamita_uy': 0.004807692307692308,\n",
              " 'EnlaMiraVTV': 0.004807692307692308,\n",
              " 'Exante_UY': 0.014423076923076924,\n",
              " 'FT78': 0.004807692307692308,\n",
              " 'FedericoGanz': 0.004807692307692308,\n",
              " 'FlorenciaAstori': 0.004807692307692308,\n",
              " 'GabrielBurdin': 0.019230769230769232,\n",
              " 'GastoDuffour': 0.004807692307692308,\n",
              " 'Gauzabolso': 0.004807692307692308,\n",
              " 'GerardoLicandro': 0.02403846153846154,\n",
              " 'GerdDoha': 0.004807692307692308,\n",
              " 'Gigi_NoMasOdio': 0.004807692307692308,\n",
              " 'Girlpill1': 0.004807692307692308,\n",
              " 'GonzaBohemio': 0.004807692307692308,\n",
              " 'GonzaMarquez_uy': 0.004807692307692308,\n",
              " 'GonzaloSalasB': 0.04326923076923077,\n",
              " 'Gus_Noriega': 0.004807692307692308,\n",
              " 'HolaSoyAlva': 0.004807692307692308,\n",
              " 'IgnacioMunyo': 0.019230769230769232,\n",
              " 'IgnacioSantam27': 0.004807692307692308,\n",
              " 'Integralmente1': 0.004807692307692308,\n",
              " 'IsabelTwittea': 0.004807692307692308,\n",
              " 'Itu_Agustin': 0.04326923076923077,\n",
              " 'IvanWerning': 0.004807692307692308,\n",
              " 'JGLagos': 0.004807692307692308,\n",
              " 'JavierdeHaedo': 0.04326923076923077,\n",
              " 'JuanDiazLago': 0.004807692307692308,\n",
              " 'JuanDubra1': 0.019230769230769232,\n",
              " 'JuanPMartinez66': 0.004807692307692308,\n",
              " 'JuanXandri': 0.038461538461538464,\n",
              " 'Juan_Guerra_1': 0.004807692307692308,\n",
              " 'Juan_Lobby': 0.004807692307692308,\n",
              " 'Juani_Dorrego': 0.004807692307692308,\n",
              " 'Kevin_genna': 0.004807692307692308,\n",
              " 'LBonillaLastman': 0.1201923076923077,\n",
              " 'Laborde_Cecilia': 0.004807692307692308,\n",
              " 'LeoVeigaSanchez': 0.004807692307692308,\n",
              " 'LuisMatonte': 0.004807692307692308,\n",
              " 'MCampodo': 0.004807692307692308,\n",
              " 'MLarrechea': 0.004807692307692308,\n",
              " 'MajaVelez': 0.004807692307692308,\n",
              " 'MarceloCaffera': 0.057692307692307696,\n",
              " 'Martinjbueno': 0.004807692307692308,\n",
              " 'MatiDodel': 0.004807692307692308,\n",
              " 'Mati_strehl': 0.004807692307692308,\n",
              " 'Matias__Brum': 0.014423076923076924,\n",
              " 'Matirod5': 0.004807692307692308,\n",
              " 'Montaldo_Pablo': 0.004807692307692308,\n",
              " 'NahuelBeau': 0.004807692307692308,\n",
              " 'Nicols26084937': 0.004807692307692308,\n",
              " 'NofalBeatriz': 0.004807692307692308,\n",
              " 'ObservadorUY': 0.014423076923076924,\n",
              " 'OddoneGabriel': 0.014423076923076924,\n",
              " 'OliverStuenkel': 0.004807692307692308,\n",
              " 'PabloRosselli': 0.02403846153846154,\n",
              " 'Pablo_Hartmann': 0.004807692307692308,\n",
              " 'PolisElso': 0.004807692307692308,\n",
              " 'Qvivirdearriba': 0.004807692307692308,\n",
              " 'RazonesPersonas': 0.009615384615384616,\n",
              " 'RodrigoArim1': 0.004807692307692308,\n",
              " 'Rodrigoceni2': 0.02403846153846154,\n",
              " 'RubidoMarcelo': 0.08173076923076923,\n",
              " 'SantiagoBeAs': 0.004807692307692308,\n",
              " 'Santiagosoto93': 0.004807692307692308,\n",
              " 'SchGretel': 0.004807692307692308,\n",
              " 'Sebauyanet': 0.004807692307692308,\n",
              " 'ShaatDana': 0.004807692307692308,\n",
              " 'SofiaFelipez94': 0.004807692307692308,\n",
              " 'TamaraSchandy': 0.07692307692307693,\n",
              " 'TheClash': 0.004807692307692308,\n",
              " 'TomValletti': 0.004807692307692308,\n",
              " 'VairoDaniela': 0.004807692307692308,\n",
              " '_rxavier_': 0.004807692307692308,\n",
              " 'alainmizrahi': 0.014423076923076924,\n",
              " 'alejoumpierrez': 0.004807692307692308,\n",
              " 'andresmalamud': 0.004807692307692308,\n",
              " 'andrioliromina': 0.004807692307692308,\n",
              " 'aparejaBID': 0.004807692307692308,\n",
              " 'b_kuchman': 0.004807692307692308,\n",
              " 'bcmainzer': 0.004807692307692308,\n",
              " 'c_casacuberta': 0.07211538461538462,\n",
              " 'carboleya': 0.004807692307692308,\n",
              " 'carinanovarese': 0.004807692307692308,\n",
              " 'carlos_d_diaz': 0.004807692307692308,\n",
              " 'cc2011urbe': 0.004807692307692308,\n",
              " 'ced_uy': 0.014423076923076924,\n",
              " 'conradoh47': 0.009615384615384616,\n",
              " 'constant_hevia': 0.004807692307692308,\n",
              " 'cpa_ferrere': 0.004807692307692308,\n",
              " 'crisricheri': 0.004807692307692308,\n",
              " 'cronopista': 0.004807692307692308,\n",
              " 'danidlsa': 0.004807692307692308,\n",
              " 'daniloasueiro': 0.004807692307692308,\n",
              " 'darioelque': 0.004807692307692308,\n",
              " 'diegoluy': 0.004807692307692308,\n",
              " 'diegoshaw1891': 0.004807692307692308,\n",
              " 'drexlerjorge': 0.004807692307692308,\n",
              " 'economicliberal': 0.004807692307692308,\n",
              " 'elpark77': 0.004807692307692308,\n",
              " 'elsantisoto': 0.02403846153846154,\n",
              " 'emegodin': 0.004807692307692308,\n",
              " 'empresasucu': 0.004807692307692308,\n",
              " 'enperspectivauy': 0.004807692307692308,\n",
              " 'estefaniagalv4n': 0.06730769230769232,\n",
              " 'fcomesana': 0.004807692307692308,\n",
              " 'ferariceta': 0.004807692307692308,\n",
              " 'fersantullo': 0.004807692307692308,\n",
              " 'flocarri': 0.014423076923076924,\n",
              " 'florencialepre': 0.004807692307692308,\n",
              " 'francisco_adb': 0.004807692307692308,\n",
              " 'genarteyciencia': 0.004807692307692308,\n",
              " 'glitterflorsi_': 0.004807692307692308,\n",
              " 'gonza2907': 0.004807692307692308,\n",
              " 'gonzalezrostani': 0.004807692307692308,\n",
              " 'gonzalorius': 0.004807692307692308,\n",
              " 'gregor_salto': 0.004807692307692308,\n",
              " 'grielpapa': 0.009615384615384616,\n",
              " 'guillelezama': 0.009615384615384616,\n",
              " 'guillermo_alves': 0.004807692307692308,\n",
              " 'heber_freiria': 0.009615384615384616,\n",
              " 'i_bartesaghi': 0.004807692307692308,\n",
              " 'irenichus': 0.004807692307692308,\n",
              " 'janafig': 0.004807692307692308,\n",
              " 'janarhertz': 0.004807692307692308,\n",
              " 'jorgealfredob11': 0.004807692307692308,\n",
              " 'joseigrivero': 0.004807692307692308,\n",
              " 'jpferreira2311': 0.009615384615384616,\n",
              " 'jsarasola1': 0.004807692307692308,\n",
              " 'juan_21993': 0.004807692307692308,\n",
              " 'juancahallak': 0.004807692307692308,\n",
              " 'kslc': 0.004807692307692308,\n",
              " 'lalola52507133': 0.004807692307692308,\n",
              " 'lamanovisible': 0.004807692307692308,\n",
              " 'laotracara_co': 0.004807692307692308,\n",
              " 'larboleya': 0.004807692307692308,\n",
              " 'leoaltmann': 0.004807692307692308,\n",
              " 'leohaberkorn': 0.004807692307692308,\n",
              " 'licandro1': 0.07211538461538462,\n",
              " 'lu_juneseven': 0.004807692307692308,\n",
              " 'lucasbarreiro96': 0.004807692307692308,\n",
              " 'lucasgarcia205': 0.004807692307692308,\n",
              " 'luismardones': 0.004807692307692308,\n",
              " 'luzceleste': 0.004807692307692308,\n",
              " 'mariaclopez2020': 0.004807692307692308,\n",
              " 'marianadeviaje': 0.057692307692307696,\n",
              " 'marianorabassa': 0.004807692307692308,\n",
              " 'martajaraotero': 0.004807692307692308,\n",
              " 'martinmelazzi': 0.019230769230769232,\n",
              " 'mativiera1': 0.004807692307692308,\n",
              " 'matuta_': 0.004807692307692308,\n",
              " 'mauriderosa': 0.004807692307692308,\n",
              " 'maximrossi': 0.0625,\n",
              " 'mechemme': 0.004807692307692308,\n",
              " 'merisalmenis': 0.004807692307692308,\n",
              " 'mgiaccobasso': 0.004807692307692308,\n",
              " 'mister__lemon': 0.004807692307692308,\n",
              " 'mmellocosta': 0.004807692307692308,\n",
              " 'mrodrigfeed': 0.004807692307692308,\n",
              " 'mvdsister': 0.004807692307692308,\n",
              " 'nanitauy': 0.004807692307692308,\n",
              " 'ncichevski': 0.004807692307692308,\n",
              " 'nicotrajtenberg': 0.014423076923076924,\n",
              " 'paubgood': 0.028846153846153848,\n",
              " 'perezanalaura': 0.004807692307692308,\n",
              " 'ptanurev': 0.004807692307692308,\n",
              " 'rafaguntin': 0.10576923076923078,\n",
              " 'rmiglionico': 0.004807692307692308,\n",
              " 'rodrinicob': 0.004807692307692308,\n",
              " 'romar505': 0.004807692307692308,\n",
              " 'rorypasteura': 0.004807692307692308,\n",
              " 'rrsoca': 0.004807692307692308,\n",
              " 'ruedatesta': 0.004807692307692308,\n",
              " 'salocinuy': 0.004807692307692308,\n",
              " 'santaolallaok': 0.004807692307692308,\n",
              " 'santi_garza': 0.009615384615384616,\n",
              " 'scardige': 0.004807692307692308,\n",
              " 'sebafle': 0.004807692307692308,\n",
              " 'sebafossati': 0.004807692307692308,\n",
              " 'sfogel': 0.004807692307692308,\n",
              " 'sgc_econ': 0.08173076923076923,\n",
              " 'sgutierrezsilva': 0.004807692307692308,\n",
              " 'socorro11974648': 0.004807692307692308,\n",
              " 'tenisuy': 0.004807692307692308,\n",
              " 'tinchonegriazul': 0.009615384615384616,\n",
              " 'triunfo_econ': 0.004807692307692308,\n",
              " 'vaillant_marcel': 0.09134615384615385}"
            ]
          },
          "metadata": {
            "tags": []
          },
          "execution_count": 9
        }
      ]
    },
    {
      "cell_type": "code",
      "metadata": {
        "id": "Cbppk_1rV8BF"
      },
      "source": [
        ""
      ],
      "execution_count": null,
      "outputs": []
    },
    {
      "cell_type": "code",
      "metadata": {
        "id": "Cyk_sfRUWIPZ"
      },
      "source": [
        ""
      ],
      "execution_count": null,
      "outputs": []
    },
    {
      "cell_type": "code",
      "metadata": {
        "id": "6GCHJXivWIYp"
      },
      "source": [
        ""
      ],
      "execution_count": null,
      "outputs": []
    },
    {
      "cell_type": "code",
      "metadata": {
        "id": "crXBPr00WIxl"
      },
      "source": [
        ""
      ],
      "execution_count": null,
      "outputs": []
    }
  ]
}